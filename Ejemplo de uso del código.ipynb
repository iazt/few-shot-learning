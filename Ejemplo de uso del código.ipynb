{
  "nbformat": 4,
  "nbformat_minor": 0,
  "metadata": {
    "kernelspec": {
      "display_name": "Python 3",
      "language": "python",
      "name": "python3"
    },
    "language_info": {
      "codemirror_mode": {
        "name": "ipython",
        "version": 3
      },
      "file_extension": ".py",
      "mimetype": "text/x-python",
      "name": "python",
      "nbconvert_exporter": "python",
      "pygments_lexer": "ipython3",
      "version": "3.7.8"
    },
    "toc": {
      "base_numbering": 1,
      "nav_menu": {},
      "number_sections": true,
      "sideBar": true,
      "skip_h1_title": false,
      "title_cell": "Table of Contents",
      "title_sidebar": "Contents",
      "toc_cell": false,
      "toc_position": {},
      "toc_section_display": true,
      "toc_window_display": false
    },
    "colab": {
      "name": "Baseline_(1).ipynb",
      "provenance": [],
      "collapsed_sections": [],
      "toc_visible": true
    },
    "accelerator": "GPU"
  },
  "cells": [
    {
      "cell_type": "markdown",
      "metadata": {
        "id": "2D0Ky6HhR846"
      },
      "source": [
        "# Ejemplo de uso del código\r\n",
        "Autor: Ignacio Zurita Tapia."
      ]
    },
    {
      "cell_type": "markdown",
      "metadata": {
        "id": "haeUe_0OaMFQ"
      },
      "source": [
        "# Datos y github"
      ]
    },
    {
      "cell_type": "code",
      "metadata": {
        "id": "-cIsd-sZ82EN"
      },
      "source": [
        "from google.colab import drive\r\n",
        "drive.mount('/content/gdrive')"
      ],
      "execution_count": null,
      "outputs": []
    },
    {
      "cell_type": "code",
      "metadata": {
        "id": "wLV_QFlenAlq"
      },
      "source": [
        "!wget https://data.deepai.org/miniimagenet.zip"
      ],
      "execution_count": null,
      "outputs": []
    },
    {
      "cell_type": "code",
      "metadata": {
        "id": "UrYyCTsxoVFq"
      },
      "source": [
        "!unzip /content/miniimagenet.zip"
      ],
      "execution_count": null,
      "outputs": []
    },
    {
      "cell_type": "code",
      "metadata": {
        "id": "vqr6hABopVlO"
      },
      "source": [
        "!git clone https://github.com/iazt/few-shot-learning.git"
      ],
      "execution_count": null,
      "outputs": []
    },
    {
      "cell_type": "markdown",
      "metadata": {
        "id": "r9lAz74saSAW"
      },
      "source": [
        "# Carga de datos\r\n"
      ]
    },
    {
      "cell_type": "code",
      "metadata": {
        "id": "b06SPUzSpcCm"
      },
      "source": [
        "import sys\r\n",
        "sys.path.append(\"/content/few-shot-learning/\")"
      ],
      "execution_count": null,
      "outputs": []
    },
    {
      "cell_type": "code",
      "metadata": {
        "id": "gyzy6Xf6pmnl"
      },
      "source": [
        "from train import train\r\n",
        "from src.dataset import miniImagenet\r\n",
        "from src.baseline import Baseline, Baseline_plus\r\n",
        "from src.conv4 import Conv4\r\n",
        "from src.conv6 import Conv6"
      ],
      "execution_count": null,
      "outputs": []
    },
    {
      "cell_type": "code",
      "metadata": {
        "id": "E2vUQm0boxsJ"
      },
      "source": [
        "train_dataset = miniImagenet('/content/mini-imagenet-cache-train.pkl',augmentation=False, split= True)\r\n",
        "val_dataset = train_dataset.get_val_dataset()\r\n",
        "test_dataset = miniImagenet('/content/mini-imagenet-cache-test.pkl', augmentation=False, split = False)"
      ],
      "execution_count": null,
      "outputs": []
    },
    {
      "cell_type": "code",
      "metadata": {
        "id": "5DalMM-upAG9"
      },
      "source": [
        "from torch.utils.data import DataLoader\r\n",
        "batch_size = 16\r\n",
        "train_loader = DataLoader(train_dataset, batch_size=batch_size, shuffle=True)\r\n",
        "val_loader = DataLoader(val_dataset, batch_size=batch_size, shuffle=True)\r\n",
        "test_loader = DataLoader(test_dataset, batch_size=batch_size, shuffle=False) # datos ordenados por clase\r\n"
      ],
      "execution_count": null,
      "outputs": []
    },
    {
      "cell_type": "markdown",
      "metadata": {
        "id": "b8RI1AgHOwe1"
      },
      "source": [
        "\r\n",
        "\r\n",
        "# Entrenamiento de Backbones\r\n",
        "\r\n",
        "Se puede crear la red Baseline o Baseline_plus, teniendo ambos como input el número de clases y el backbone respectivo."
      ]
    },
    {
      "cell_type": "code",
      "metadata": {
        "id": "o1-G-ZP8hUVF"
      },
      "source": [
        "net = Baseline(64, Conv4)\r\n",
        "net.to('cuda')"
      ],
      "execution_count": null,
      "outputs": []
    },
    {
      "cell_type": "code",
      "metadata": {
        "id": "lfyKe8diydYL"
      },
      "source": [
        "epochs  = 400 #Ocupado en el paper\r\n",
        "dir_checkpoint = '/content/gdrive/My Drive/fewshot/baseline_checkpoints/'\r\n",
        "val_acc, val_loss, tiempo = train(net, epochs, train_loader, val_loader, name = 'new_code_noaugnosoft', dir_checkpoint=dir_checkpoint)"
      ],
      "execution_count": null,
      "outputs": []
    },
    {
      "cell_type": "code",
      "metadata": {
        "id": "AVttsd7xofbH"
      },
      "source": [
        "import torch\r\n",
        "dir_checkpoint = '/content/gdrive/My Drive/fewshot/baseline_checkpoints/'\r\n",
        "torch.save(net.state_dict(), dir_checkpoint + 'new_code_noaug_lastmodel.pth')"
      ],
      "execution_count": null,
      "outputs": []
    },
    {
      "cell_type": "markdown",
      "metadata": {
        "id": "2xpslyZiOjHO"
      },
      "source": [
        "# Few shot\r\n",
        "\r\n",
        "Se cargan los pesos del mejor modelo y se evalúa la etapa de few shot con la función *few_shot*, congelando el embedding.\r\n"
      ]
    },
    {
      "cell_type": "code",
      "metadata": {
        "id": "WHUH-dqRc1Z1"
      },
      "source": [
        "import torch.nn as nn\r\n",
        "import torch\r\n",
        "from src.few_shot_episode import freeze_embedding\r\n",
        "net = Baseline_plus(64, Conv6)\r\n",
        "dir_checkpoint = '/content/gdrive/My Drive/fewshot/baselineplus/conv6/'\r\n",
        "net.load_state_dict(torch.load(dir_checkpoint+ 'conv6_best_model.pth'))\r\n",
        "net.to('cuda')\r\n",
        "net.classifier.fc = nn.Linear(128,5, bias = False)\r\n",
        "net.classifier.fc.to('cuda')\r\n",
        "freeze_embedding(net)"
      ],
      "execution_count": null,
      "outputs": []
    },
    {
      "cell_type": "code",
      "metadata": {
        "id": "Do8P66rnlNei"
      },
      "source": [
        "from train_fewshot import few_shot\r\n",
        "\r\n",
        "acc, loss = few_shot(net, test_dataset, n_episodes = 600)"
      ],
      "execution_count": null,
      "outputs": []
    },
    {
      "cell_type": "code",
      "metadata": {
        "id": "N6YPWAPF2lwH"
      },
      "source": [
        "import pandas as pd\r\n",
        "df = pd.DataFrame({\"acc\":acc, \"loss\":loss})\r\n",
        "df.to_csv(dir_checkpoint+'conv6baselineplus.csv', index=False)"
      ],
      "execution_count": null,
      "outputs": []
    },
    {
      "cell_type": "markdown",
      "metadata": {
        "id": "CXmqW7P5zl-5"
      },
      "source": [
        "#NED\r\n",
        "\r\n",
        "Se ejecuta el algoritmo NED, mediante la función *eval_Ned*."
      ]
    },
    {
      "cell_type": "code",
      "metadata": {
        "id": "z7XTKHcO0PyJ"
      },
      "source": [
        "import torch\r\n",
        "from src.few_shot_episode import freeze_embedding\r\n",
        "net = Baseline_plus(64, Conv6)\r\n",
        "dir_checkpoint = '/content/gdrive/MyDrive/fewshot/baselineplus/conv6/'\r\n",
        "net.load_state_dict(torch.load(dir_checkpoint+ 'conv6_best_model.pth'))\r\n",
        "net.to('cuda')\r\n",
        "freeze_embedding(net)"
      ],
      "execution_count": null,
      "outputs": []
    },
    {
      "cell_type": "code",
      "metadata": {
        "id": "rAevomGq0Jfd"
      },
      "source": [
        "from NED import ned, eval_Ned\r\n",
        "acc = eval_Ned(net, test_dataset, n_episodes = 600)"
      ],
      "execution_count": null,
      "outputs": []
    },
    {
      "cell_type": "code",
      "metadata": {
        "id": "QYcnPsTN0trR"
      },
      "source": [
        "acc_item = [a.item()for a in acc]"
      ],
      "execution_count": null,
      "outputs": []
    },
    {
      "cell_type": "code",
      "metadata": {
        "id": "i1LPKpawDNQ1"
      },
      "source": [
        "import pandas as pd\r\n",
        "df = pd.DataFrame({\"acc\":acc_item})\r\n",
        "df.to_csv(dir_checkpoint+'NEDconv6.csv', index=False)"
      ],
      "execution_count": null,
      "outputs": []
    },
    {
      "cell_type": "code",
      "metadata": {
        "id": "5xWU_4DNDmcR"
      },
      "source": [
        "np.mean(acc_item)"
      ],
      "execution_count": null,
      "outputs": []
    }
  ]
}